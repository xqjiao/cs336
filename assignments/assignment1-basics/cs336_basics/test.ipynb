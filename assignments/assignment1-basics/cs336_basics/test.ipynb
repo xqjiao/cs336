{
 "cells": [
  {
   "cell_type": "code",
   "execution_count": 2,
   "id": "335316db",
   "metadata": {},
   "outputs": [
    {
     "name": "stdout",
     "output_type": "stream",
     "text": [
      "tensor([[ 0.0366,  1.2256, -0.0100],\n",
      "        [-0.0384,  0.0605,  0.5275]])\n"
     ]
    }
   ],
   "source": [
    "import torch\n",
    "\n",
    "a = torch.randn(2, 3)\n",
    "# b= torch.Tensor([0,1], dtype = torch.int64)\n",
    "b= torch.tensor([0,1])\n",
    "print(a[b])"
   ]
  },
  {
   "cell_type": "code",
   "execution_count": 14,
   "id": "10a98322",
   "metadata": {},
   "outputs": [
    {
     "name": "stdout",
     "output_type": "stream",
     "text": [
      "tensor([False,  True, False])\n",
      "tensor([0, 1, 0], dtype=torch.uint16)\n",
      "tensor([nan, -inf, nan])\n",
      "tensor([[nan, -inf, nan],\n",
      "        [nan, -inf, nan]])\n"
     ]
    }
   ],
   "source": [
    "a = torch.tensor([True, False, True])\n",
    "print(~a)  # tensor([False,  True, False])\n",
    "a = ~a\n",
    "a = a.to(torch.uint16)\n",
    "print(a)  # tensor([0, 1, 0], dtype=torch.uint16)\n",
    "scores = torch.randn(2, 3)\n",
    "# print(scores.masked_fill(a == False, float('-inf')))\n",
    "a = a * float('-inf')\n",
    "print(a)\n",
    "print(scores + a)\n"
   ]
  },
  {
   "cell_type": "code",
   "execution_count": 7,
   "id": "c185a280",
   "metadata": {},
   "outputs": [
    {
     "name": "stdout",
     "output_type": "stream",
     "text": [
      "tensor([[ True, False, False],\n",
      "        [ True,  True, False],\n",
      "        [ True,  True,  True]])\n"
     ]
    }
   ],
   "source": [
    "import torch\n",
    "a = torch.triu(torch.ones(3, 3), diagonal=1).bool()\n",
    "print(~a)"
   ]
  },
  {
   "cell_type": "markdown",
   "id": "cda6a999",
   "metadata": {},
   "source": []
  }
 ],
 "metadata": {
  "kernelspec": {
   "display_name": "py11",
   "language": "python",
   "name": "python3"
  },
  "language_info": {
   "codemirror_mode": {
    "name": "ipython",
    "version": 3
   },
   "file_extension": ".py",
   "mimetype": "text/x-python",
   "name": "python",
   "nbconvert_exporter": "python",
   "pygments_lexer": "ipython3",
   "version": "3.11.11"
  }
 },
 "nbformat": 4,
 "nbformat_minor": 5
}
